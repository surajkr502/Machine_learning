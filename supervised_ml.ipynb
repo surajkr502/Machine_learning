{
 "cells": [
  {
   "cell_type": "markdown",
   "id": "3ca223e4-52ea-44c6-8d7e-2c306bf7fe45",
   "metadata": {},
   "source": [
    "### what is logistic regression?\n",
    "* Logistic Regression is a supervised machine learning algorithm used primarily for classification problems.\n",
    "#### What it does\n",
    "* It predicts the probability that a given input belongs to a certain class.\n",
    "* Unlike Linear Regression (which predicts continuous values), Logistic Regression outputs values between 0 and 1 using the sigmoid (logistic) function.\n",
    "#### Main Uses in Machine Learning\n",
    "1. Binary Classification (two possible outcomes):\n",
    "* Example: Spam (1) or Not Spam (0) in email filtering\n",
    "* Example: Tumor is Malignant (1) or Benign (0) in medical diagnosis\n",
    "\n",
    "2. Multi-class Classification (extended using One-vs-Rest or Softmax):\n",
    "* Example: Classifying types of flowers (iris dataset)\n",
    "* Example: Handwritten digit recognition (0–9)\n",
    "\n",
    "3. Probability Estimation:\n",
    "* It gives not only a predicted class, but also the probability score (e.g., \"This email has a 90% chance of being spam\").\n",
    "\n",
    "4. Feature Impact Analysis:\n",
    "* Since it uses coefficients for features, you can interpret which features increase or decrease the probability of belonging to a certain class."
   ]
  },
  {
   "cell_type": "code",
   "execution_count": null,
   "id": "373e0462-1495-4353-b222-6c8ee2f1a84f",
   "metadata": {},
   "outputs": [],
   "source": []
  }
 ],
 "metadata": {
  "kernelspec": {
   "display_name": "Python 3 (ipykernel)",
   "language": "python",
   "name": "python3"
  },
  "language_info": {
   "codemirror_mode": {
    "name": "ipython",
    "version": 3
   },
   "file_extension": ".py",
   "mimetype": "text/x-python",
   "name": "python",
   "nbconvert_exporter": "python",
   "pygments_lexer": "ipython3",
   "version": "3.13.5"
  }
 },
 "nbformat": 4,
 "nbformat_minor": 5
}
